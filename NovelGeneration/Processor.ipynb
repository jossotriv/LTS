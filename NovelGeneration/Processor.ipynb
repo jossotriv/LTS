{
 "cells": [
  {
   "cell_type": "code",
   "execution_count": 58,
   "metadata": {},
   "outputs": [],
   "source": [
    "import math\n",
    "import os\n",
    "import sys\n",
    "import numpy as np\n",
    "# The libraries above I always include in any file I program. \n",
    "import json\n",
    "# this library will be used to interpret the html and convert it to \n",
    "# readable arrays of text.\n",
    "from bs4 import BeautifulSoup\n"
   ]
  },
  {
   "cell_type": "code",
   "execution_count": 59,
   "metadata": {
    "scrolled": true
   },
   "outputs": [],
   "source": [
    "#I am using this to load a test novel that I have downloaded with \n",
    " # lightnovel-crawler into \".../Novels\".\n",
    "with open(r\"C:\\Users\\Jose\\Desktop\\LTS\\NovelGeneration\\Novels\\OnlyIAmANecromancer\\json\\First.json\") as f:\n",
    "    raw_json_novel = json.load(f)\n",
    "#raw_novel should contain the raw_novel_json file"
   ]
  },
  {
   "cell_type": "code",
   "execution_count": 60,
   "metadata": {},
   "outputs": [
    {
     "name": "stdout",
     "output_type": "stream",
     "text": [
      "{\n",
      "    \"body\": \"<h1>Only I Am A Necromancer 1 Chapter 1</h1>\\n<p>Commuting to school is hellish.</p><p>Sungwoo Yu was often exhausted when he finally arrived at campus after transferring three times, which took him two hours each way.</p><p>So, he tried his best to avoid his 9:30AM class as much as possible, but it didn't work out as he wished because it was one of the required courses for his major.</p><p>\\\"Urgh! Oh no! How did I manage to attend school in my freshman year? I think I have to make a choice between living near school and dropping out of college,\\\" he grumbled, getting off the shuttle bus. He felt his whole body aching after the long commute.</p><p>Hanho Lee, who was a year younger, teased while following him, \\\"Hey, why are you so weak-minded as a retired squad commander of the army special forces?\\\"</p><p>The other day when he drank with Hanho, Sungwoo bragged about his heroic exploits when he was in the army. After that, Hanho made fun of him whenever he had a chance.</p><p>\\\"Are you sure you were really an army special forces member? Aren't you lying to me? You said you were done marching 10 kilometers quickly in full gear, right? Then why can't you stand sitting on the bus or subway for two hours while commuting here?\\\"</p><p>As if he felt what Hanho said was ridiculous, Sungwoo tapped him on the shoulder and said, \\\"Hanho, can't you stop preaching me until after you join the army? How long are you going to delay going to the army?\\\"</p><p>\\\"Well, let me tell you one thing, Sungwoo. The unification coin will prevail.\\\"</p><p>Sungwoo clicked his tongue at his strong ambitions.</p><p>\\\"Damn it! What the heck are you talking about when you don't pay any attention to the news at all? You don't deserve to mention national unification! Don't you know you are in a limbo because you kept delaying joining the army because of Miyoung? I doubt unification will ever come true when you have already broken up with her.\\\"</p><p>Hanho's face hardened at his sarcastic reply.</p><p>\\\"Well, would you please not mention her?\\\"</p><p>\\\"Hanho, I clearly told you at the welcoming ceremony for freshmen three years ago that there should not be any campus couples, right?\\\"</p><p>\\\"...\\\"</p><p>Obviously it was impossible for a man like Hanho, who was part of a campus couple but had no military experience, to win the argument with anybody.</p><p>Despite Hanho's silence, Sungwoo kept mentioning her name while heading for the campus building for his first class. Hanho suddenly began to look in the sky blankly.</p><p>\\\"What the heck! Are you crying now?\\\" Sungwoo asked.</p><p>\\\"No, I'm just looking at the sky\\u2026\\\"</p><p>\\\"Sky? I wonder if you're conjuring up her face there\\u2026\\\"</p><p>\\\"Didn't you see those letters in the sky a moment ago?\\\"</p><p>When he said that, Sungwoo raised his head, but he saw only the cloudless blue sky.</p><p>\\\"You miss her very much, right?\\\"</p><p>\\\"Oh, no! I clearly saw the letters only a moment ago! It said something like monster downloading. It said 99% downloading, then suddenly disappeared when it was 100%. I mean it was over there on the top of the library building!\\\"</p><p><br></br></p><p>Sungwoo looked up at the sky again, but he saw only a few birds fluttering away into the sky.</p><p>\\\"...Monster? Hey, dude, what kind of game did you play last night? Can't you tell reality from a dream?\\\"</p><p>\\\"Oh, I'm serious\\u2026\\\"</p><p>\\\"I think you saw an illusion because you have been drinking too much these days.\\\"</p><p>\\\"...Ah, you think so?\\\"</p><p>Hanho easily agreed. It was true that these days he was unstable and nervous. Nonetheless, he looked at the sky several times as if he felt uncomfortable.</p><p>Clicking his tongue, Sunwoo kept walking while Hanho slapped his face a couple of times and caught up with him quickly.</p><p>\\\"Hey, Sungwoo, can you get me a cup of coffee from a vending machine? I seriously need some caffeine because I feel like I'm losing my mind at the moment.\\\"</p><p>\\\"I don't have time. Prof. Hwang will come in at any moment. Just look at the long line before the vending machine. Are you going to swap your grade for a cup of coffee?\\\"</p><p>Even before the first class began, there was a long line before the vending machine on the first floor of the building.</p><p>\\\"Well, are you going to doze off again? Your strong mentality as a former special forces member will be tested again\\u2026\\\"</p><p>At that moment, Hanho stopped because he knew he would be in big trouble if his tongue slipped any further.</p><p>\\\"See you at lunch then. I could end early today. By the way, I really saw the letters,\\\" Hanho said.</p><p>\\\"Stop the nonsense! Let me head out first. Talk to you later.\\\"</p><p>Sungwoo took the elevator to the fourth floor and arrived at the lecture hall. When he came in, the professor also arrived right on time.</p><p>\\\"...Oops, I feel sleepy.\\\"</p><p>Was it because he didn't have coffee or was he so rusty after being discharged from the army and coming back to school only recently? In no time he felt sleepy as he could not concentrate on the lecture.</p><p>\\\"...\\\"</p><p>He heard the professor's voice vaguely, and his eyelids were heavy. His shoulders felt stiff, but he blamed it for his hellish commute to school.</p><p>Right at that moment, he saw some strange letters floating in the air.</p><p>u003cWhat is the best job in the ruined world? Choose right now.u003e</p><p>\\\"Ugh? What the heck?\\\"</p><p>He felt he was hallucinating while dozing off. He blinked his eyes, then roughly rubbed them. But the hologram message before his eyes didn't disappear.</p><p>Tik, tik, tik.</p><p>At that moment, the monitor that was printing out the class material flickered, then all the fluorescent lights went out.</p><p>Woowoong~</p><p>\\\"Ugh? What the heck is this? Is it a blackout?\\\"</p><p>\\\"What? I don't see anything!\\\"</p><p>It was not a simple blackout. As if the sun had gone out or one was thrown into the cosmos, the whole world plunged into darkness.</p><p>Sungwoo curled up in an attempt to defend himself against the contingencies.</p><p>\\\"Even my mobile phone is off. What the heck is going on?\\\"</p><p>\\\"By the way, what the heck is this? I can see myself only here!\\\"</p><p>\\\"Me too\\u2026\\\"</p><p>One thing was clearly visible. It was the holographic message that Sungwoo mistakenly regarded as a hallucination. It seemed that all the students in the hall saw the same thing.</p><p>u003cYou have only have 15 seconds left.u003e</p><p>\\\"Oh my...what is this?\\\"</p><p>\\\"15 seconds of what?\\\"</p><p>Bright light shined before their eyes, and then the ten cards began to spin.</p><p>Just like a spinning wheel or conveyor-belt sushi, the cards came so close as if they could touch them, then quickly moved away clockwise. The cards had all sorts of pictures with various colored backgrounds.</p><p>\\\"You guys see these cards too?\\\"</p><p>\\\"Hey, guys, don't touch them recklessly!\\\"</p><p>\\\"He is right! Don't touch them! They're dangerous!\\\"</p><p>Nobody knew why it was dangerous to touch them. They just avoided the cards instinctively. But Sungwoo harbored another doubt.</p><p>'Isn't it more dangerous to not do anything now? Who knows what'll happen after 15 seconds?'</p><p>u003cYou've got only ten seconds!u003e</p><p>'Does it mean we have to choose a card?'</p><p>One card had the drawing of a fighter with a sword and a shield, another one with a wizard holding a cane, and another one with an archer holding an arrow. These three cards each had a star on the white background.</p><p>Another one had two stars on a green background, which looked like a priest in Sungwoo's eyes. Was he a castle knight drawn on the card with three stars on the pink background?</p><p>Sungwoo tried his best to understand this ridiculous situation. Only seven seconds were left. What was this countdown forcing him to do?</p><p>'What the heck is this? Is it similar to poker? What am I supposed to decide within this timeframe?'</p><p>At that moment, one card with the drawing of a fighter, which was off in the distance, disappeared with a 'Poof!' And then\\u2026</p><p>Bump!</p><p>\\\"Ugh? What the heck is this?\\\"</p><p>A sword suddenly dropped onto Sungwoo's friend's desk, who was sitting in front of him.</p><p>'I wonder if it was dropped by the fighter on the card\\u2026'</p>\",\n",
      "    \"id\": 1,\n",
      "    \"title\": \"Only I Am A Necromancer 1 Chapter 1\",\n",
      "    \"url\": \"https://bestlightnovel.com/novel_888162148/chapter_1\",\n",
      "    \"volume\": 1,\n",
      "    \"volume_title\": \"Volume 1\"\n",
      "}\n"
     ]
    }
   ],
   "source": [
    "#Here we are printing the raw json novel file to get a grasp for what the file looks like and using the json library to make it look sequential when printed.\n",
    "print(json.dumps(raw_json_novel,indent=4,sort_keys=True))"
   ]
  },
  {
   "cell_type": "code",
   "execution_count": 61,
   "metadata": {},
   "outputs": [],
   "source": [
    "HTMLNovel= raw_json_novel[\"body\"]\n",
    "#This converts the converted html file into a Beautiful Soup object that can later be processed into text for the model to process\n",
    "htmlTextNovel= BeautifulSoup(HTMLNovel,'html.parser')\n"
   ]
  },
  {
   "cell_type": "code",
   "execution_count": 62,
   "metadata": {},
   "outputs": [
    {
     "data": {
      "text/plain": [
       "str"
      ]
     },
     "execution_count": 62,
     "metadata": {},
     "output_type": "execute_result"
    }
   ],
   "source": [
    "#This variable should now store the actual text from the particular nightnoveltext\n",
    "punctuationNovel = htmlTextNovel.get_text()\n",
    "type(punctuationNovel)\n",
    "#It is very important to note that this file still has special charachters such as:\n",
    "#[\" ' \",\" \" \", \" ,\", \";\",\"/\",\".\",\"!\",\"/n\"]\n",
    "#These need to be filtered out as well\n"
   ]
  },
  {
   "cell_type": "code",
   "execution_count": 63,
   "metadata": {},
   "outputs": [],
   "source": [
    "#We should always be wary that raw_text is complete or not full of junk_content.\n",
    "#For this currently, I am not doing anything to solve it other than picking reliable sources of lightnovels.\n",
    "# In the future, we could try to filter out incomplete novels.raw_text"
   ]
  },
  {
   "cell_type": "code",
   "execution_count": 64,
   "metadata": {},
   "outputs": [],
   "source": [
    "#Lets try to split the things we feed the model into raw_html_data and clean_no_special_charachters data\n",
    "cleanNovel = \"\".join(e for e in punctuationNovel if e.isalpha())"
   ]
  },
  {
   "cell_type": "code",
   "execution_count": 65,
   "metadata": {},
   "outputs": [
    {
     "data": {
      "text/plain": [
       "'OnlyIAmANecromancerChapterCommutingtoschoolishellishSungwooYuwasoftenexhaustedwhenhefinallyarrivedatcampusaftertransferringthreetimeswhichtookhimtwohourseachwaySohetriedhisbesttoavoidhisAMclassasmuchaspossiblebutitdidntworkoutashewishedbecauseitwasoneoftherequiredcoursesforhismajorUrghOhnoHowdidImanagetoattendschoolinmyfreshmanyearIthinkIhavetomakeachoicebetweenlivingnearschoolanddroppingoutofcollegehegrumbledgettingofftheshuttlebusHefelthiswholebodyachingafterthelongcommuteHanhoLeewhowasayearyoungerteasedwhilefollowinghimHeywhyareyousoweakmindedasaretiredsquadcommanderofthearmyspecialforcesTheotherdaywhenhedrankwithHanhoSungwoobraggedabouthisheroicexploitswhenhewasinthearmyAfterthatHanhomadefunofhimwheneverhehadachanceAreyousureyouwerereallyanarmyspecialforcesmemberArentyoulyingtomeYousaidyouweredonemarchingkilometersquicklyinfullgearrightThenwhycantyoustandsittingonthebusorsubwayfortwohourswhilecommutinghereAsifhefeltwhatHanhosaidwasridiculousSungwootappedhimontheshoulderandsaidHanhocantyoustoppreachingmeuntilafteryoujointhearmyHowlongareyougoingtodelaygoingtothearmyWellletmetellyouonethingSungwooTheunificationcoinwillprevailSungwooclickedhistongueathisstrongambitionsDamnitWhattheheckareyoutalkingaboutwhenyoudontpayanyattentiontothenewsatallYoudontdeservetomentionnationalunificationDontyouknowyouareinalimbobecauseyoukeptdelayingjoiningthearmybecauseofMiyoungIdoubtunificationwillevercometruewhenyouhavealreadybrokenupwithherHanhosfacehardenedathissarcasticreplyWellwouldyoupleasenotmentionherHanhoIclearlytoldyouatthewelcomingceremonyforfreshmenthreeyearsagothatthereshouldnotbeanycampuscouplesrightObviouslyitwasimpossibleforamanlikeHanhowhowaspartofacampuscouplebuthadnomilitaryexperiencetowintheargumentwithanybodyDespiteHanhossilenceSungwookeptmentioninghernamewhileheadingforthecampusbuildingforhisfirstclassHanhosuddenlybegantolookintheskyblanklyWhattheheckAreyoucryingnowSungwooaskedNoImjustlookingattheskySkyIwonderifyoureconjuringupherfacethereDidntyouseethoselettersintheskyamomentagoWhenhesaidthatSungwooraisedhisheadbuthesawonlythecloudlessblueskyYoumissherverymuchrightOhnoIclearlysawthelettersonlyamomentagoItsaidsomethinglikemonsterdownloadingItsaiddownloadingthensuddenlydisappearedwhenitwasImeanitwasoverthereonthetopofthelibrarybuildingSungwoolookedupattheskyagainbuthesawonlyafewbirdsflutteringawayintotheskyMonsterHeydudewhatkindofgamedidyouplaylastnightCantyoutellrealityfromadreamOhImseriousIthinkyousawanillusionbecauseyouhavebeendrinkingtoomuchthesedaysAhyouthinksoHanhoeasilyagreedItwastruethatthesedayshewasunstableandnervousNonethelesshelookedattheskyseveraltimesasifhefeltuncomfortableClickinghistongueSunwookeptwalkingwhileHanhoslappedhisfaceacoupleoftimesandcaughtupwithhimquicklyHeySungwoocanyougetmeacupofcoffeefromavendingmachineIseriouslyneedsomecaffeinebecauseIfeellikeImlosingmymindatthemomentIdonthavetimeProfHwangwillcomeinatanymomentJustlookatthelonglinebeforethevendingmachineAreyougoingtoswapyourgradeforacupofcoffeeEvenbeforethefirstclassbegantherewasalonglinebeforethevendingmachineonthefirstfloorofthebuildingWellareyougoingtodozeoffagainYourstrongmentalityasaformerspecialforcesmemberwillbetestedagainAtthatmomentHanhostoppedbecauseheknewhewouldbeinbigtroubleifhistongueslippedanyfurtherSeeyouatlunchthenIcouldendearlytodayBythewayIreallysawthelettersHanhosaidStopthenonsenseLetmeheadoutfirstTalktoyoulaterSungwootooktheelevatortothefourthfloorandarrivedatthelecturehallWhenhecameintheprofessoralsoarrivedrightontimeOopsIfeelsleepyWasitbecausehedidnthavecoffeeorwashesorustyafterbeingdischargedfromthearmyandcomingbacktoschoolonlyrecentlyInnotimehefeltsleepyashecouldnotconcentrateonthelectureHeheardtheprofessorsvoicevaguelyandhiseyelidswereheavyHisshouldersfeltstiffbutheblameditforhishellishcommutetoschoolRightatthatmomenthesawsomestrangelettersfloatingintheairucWhatisthebestjobintheruinedworldChooserightnowueUghWhattheheckHefelthewashallucinatingwhiledozingoffHeblinkedhiseyesthenroughlyrubbedthemButthehologrammessagebeforehiseyesdidntdisappearTiktiktikAtthatmomentthemonitorthatwasprintingouttheclassmaterialflickeredthenallthefluorescentlightswentoutWoowoongUghWhattheheckisthisIsitablackoutWhatIdontseeanythingItwasnotasimpleblackoutAsifthesunhadgoneoutoronewasthrownintothecosmosthewholeworldplungedintodarknessSungwoocurledupinanattempttodefendhimselfagainstthecontingenciesEvenmymobilephoneisoffWhattheheckisgoingonBythewaywhattheheckisthisIcanseemyselfonlyhereMetooOnethingwasclearlyvisibleItwastheholographicmessagethatSungwoomistakenlyregardedasahallucinationItseemedthatallthestudentsinthehallsawthesamethingucYouhaveonlyhavesecondsleftueOhmywhatisthissecondsofwhatBrightlightshinedbeforetheireyesandthenthetencardsbegantospinJustlikeaspinningwheelorconveyorbeltsushithecardscamesocloseasiftheycouldtouchthemthenquicklymovedawayclockwiseThecardshadallsortsofpictureswithvariouscoloredbackgroundsYouguysseethesecardstooHeyguysdonttouchthemrecklesslyHeisrightDonttouchthemTheyredangerousNobodyknewwhyitwasdangeroustotouchthemTheyjustavoidedthecardsinstinctivelyButSungwooharboredanotherdoubtIsntitmoredangeroustonotdoanythingnowWhoknowswhatllhappenaftersecondsucYouvegotonlytensecondsueDoesitmeanwehavetochooseacardOnecardhadthedrawingofafighterwithaswordandashieldanotheronewithawizardholdingacaneandanotheronewithanarcherholdinganarrowThesethreecardseachhadastaronthewhitebackgroundAnotheronehadtwostarsonagreenbackgroundwhichlookedlikeapriestinSungwooseyesWasheacastleknightdrawnonthecardwiththreestarsonthepinkbackgroundSungwootriedhisbesttounderstandthisridiculoussituationOnlysevensecondswereleftWhatwasthiscountdownforcinghimtodoWhattheheckisthisIsitsimilartopokerWhatamIsupposedtodecidewithinthistimeframeAtthatmomentonecardwiththedrawingofafighterwhichwasoffinthedistancedisappearedwithaPoofAndthenBumpUghWhattheheckisthisAswordsuddenlydroppedontoSungwoosfriendsdeskwhowassittinginfrontofhimIwonderifitwasdroppedbythefighteronthecard'"
      ]
     },
     "execution_count": 65,
     "metadata": {},
     "output_type": "execute_result"
    }
   ],
   "source": [
    "cleanNovel\n",
    "#It might be interesting to see a really raw html file and  feed it as a string to the model to see if it can gain spacial narrative skills.\n",
    "#I have a suspicion that neither of these two approaches will be sufficient and some hybrid of some 'normal punctuation' and 'white spacing' will add to the novel. Might get rid of all Hypertags though"
   ]
  },
  {
   "cell_type": "code",
   "execution_count": 66,
   "metadata": {},
   "outputs": [],
   "source": [
    "#I will now look at further ways to encode the data in order to make \n",
    "#it favorable for a computer to parse, using:\n",
    "# 1. Lowering Punctuation, i.e.: lowercaseText = {text}.lower()\n",
    "# 2. Turning into Numpy Array, i.e.: numpyText=np.array({text})\n",
    "# 3. Turning into One Hot Encoding\n",
    "# 4. Vectorize the Text\n",
    "#All of these particulars variables are variables that we can tune later on in whatever model we use to see particular gains in performance."
   ]
  }
 ],
 "metadata": {
  "kernelspec": {
   "display_name": "Python 3",
   "language": "python",
   "name": "python3"
  },
  "language_info": {
   "codemirror_mode": {
    "name": "ipython",
    "version": 3
   },
   "file_extension": ".py",
   "mimetype": "text/x-python",
   "name": "python",
   "nbconvert_exporter": "python",
   "pygments_lexer": "ipython3",
   "version": "3.7.0b5"
  }
 },
 "nbformat": 4,
 "nbformat_minor": 4
}
